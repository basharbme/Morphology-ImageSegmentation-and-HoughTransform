{
 "cells": [
  {
   "cell_type": "markdown",
   "metadata": {},
   "source": [
    "## Question 1"
   ]
  },
  {
   "cell_type": "code",
   "execution_count": 580,
   "metadata": {},
   "outputs": [
    {
     "name": "stdout",
     "output_type": "stream",
     "text": [
      "[[255. 255. 255.]\n",
      " [255. 255. 255.]\n",
      " [255. 255. 255.]\n",
      " [255. 255. 255.]\n",
      " [255. 255. 255.]]\n"
     ]
    }
   ],
   "source": [
    "import cv2\n",
    "import numpy as np\n",
    "import matplotlib.pyplot as plt\n",
    "import random\n",
    "import math\n",
    "\n",
    "img = cv2.imread(\"original_imgs/noise.jpg\",0)\n",
    "\n",
    "mask = np.zeros([5,3])\n",
    "mask[:,:] = 255\n",
    "mask.size\n",
    "print(mask)"
   ]
  },
  {
   "cell_type": "code",
   "execution_count": 581,
   "metadata": {},
   "outputs": [],
   "source": [
    "def dilation(img,mask):\n",
    "    new_img = np.zeros(img.shape)\n",
    "    \n",
    "    h= len(mask)//2\n",
    "    w= len(mask[0])//2\n",
    "    \n",
    "    for i in range(h,len(img)-h):\n",
    "        for j in range(w,len(img[0])-w):\n",
    "            val_region = img[i - h: i + h + 1, j - w: j + w + 1]\n",
    "            val = 0\n",
    "            for k in range(len(mask)):\n",
    "                for l in range(len(mask[0])):\n",
    "                    if(val_region[k,l] == mask[k,l]):\n",
    "                        val += 1\n",
    "            if(val != 0):\n",
    "                new_img[i][j] = 255\n",
    "    return new_img\n",
    "\n",
    "def erosion(img,mask):\n",
    "    new_img = np.zeros(img.shape)\n",
    "    \n",
    "    h= len(mask)//2\n",
    "    w= len(mask[0])//2\n",
    "    \n",
    "    for i in range(h,len(img)-h):\n",
    "        for j in range(w,len(img[0])-w):\n",
    "            val_region = img[i - h: i + h + 1, j - w: j + w + 1]\n",
    "            val = 0\n",
    "            for k in range(len(mask)):\n",
    "                for l in range(len(mask[0])):\n",
    "                    if(val_region[k,l] == mask[k,l]):\n",
    "                        val += 1                       \n",
    "            if(val == mask.size):\n",
    "                new_img[i][j] = 255\n",
    "    return new_img"
   ]
  },
  {
   "cell_type": "code",
   "execution_count": 582,
   "metadata": {},
   "outputs": [
    {
     "data": {
      "text/plain": [
       "True"
      ]
     },
     "execution_count": 582,
     "metadata": {},
     "output_type": "execute_result"
    }
   ],
   "source": [
    "img_1=erosion(dilation(dilation(erosion(img,mask),mask),mask),mask)\n",
    "img_2=dilation(erosion(erosion(dilation(img,mask),mask),mask),mask)  \n",
    "cv2.imwrite('res_noise1.jpg',img_1) #opening followed by closing\n",
    "cv2.imwrite('res_noise2.jpg',img_2) #closing followed by opening"
   ]
  },
  {
   "cell_type": "code",
   "execution_count": 583,
   "metadata": {},
   "outputs": [
    {
     "data": {
      "text/plain": [
       "True"
      ]
     },
     "execution_count": 583,
     "metadata": {},
     "output_type": "execute_result"
    }
   ],
   "source": [
    "img_3=dilation(img_1,mask)\n",
    "img_bound_1=img_3-img_1 #Image boundary using dilation\n",
    "cv2.imwrite('res_bound1.jpg',img_bound_1)"
   ]
  },
  {
   "cell_type": "code",
   "execution_count": 584,
   "metadata": {},
   "outputs": [
    {
     "data": {
      "text/plain": [
       "True"
      ]
     },
     "execution_count": 584,
     "metadata": {},
     "output_type": "execute_result"
    }
   ],
   "source": [
    "img_4=erosion(img_2,mask)\n",
    "img_bound_2=img_2-img_4 #Image boundary using erosion\n",
    "cv2.imwrite('res_bound2.jpg',img_bound_2)"
   ]
  },
  {
   "cell_type": "markdown",
   "metadata": {},
   "source": [
    "## Question-2"
   ]
  },
  {
   "cell_type": "code",
   "execution_count": 585,
   "metadata": {},
   "outputs": [],
   "source": [
    "import numpy as np\n",
    "import cv2\n",
    "\n",
    "img1 = cv2.imread('original_imgs/turbine-blade.jpg')\n",
    "\n",
    "gray_scale = cv2.cvtColor(img1, cv2.COLOR_BGR2GRAY)"
   ]
  },
  {
   "cell_type": "code",
   "execution_count": 667,
   "metadata": {},
   "outputs": [
    {
     "data": {
      "text/plain": [
       "True"
      ]
     },
     "execution_count": 667,
     "metadata": {},
     "output_type": "execute_result"
    }
   ],
   "source": [
    "kernel = np.array([[1, 1, 1], [1, -8, 1], [1, 1, 1]], dtype = np.int8)\n",
    "\n",
    "image_h, image_w = gray_scale.shape\n",
    "\n",
    "kernel_h, kernel_w=kernel.shape\n",
    "\n",
    "new_img = np.zeros(gray_scale.shape) \n",
    "\n",
    "image_padded = np.zeros((gray_scale.shape[0] + 2, gray_scale.shape[1] + 2))   \n",
    "image_padded[1:-1, 1:-1] = gray_scale\n",
    "\n",
    "img_1 = gray_scale.copy() \n",
    "\n",
    "for i in range(image_h):\n",
    "    for j in range(image_w):\n",
    "        val=np.sum(kernel*image_padded[i:i+3,j:j+3])        \n",
    "\n",
    "        if val>600:\n",
    "            new_img[i,j]=255\n",
    "        else:\n",
    "            new_img[i,j]=0\n",
    "            \n",
    "cv2.imwrite('point_threshold.jpg',new_img)"
   ]
  },
  {
   "cell_type": "code",
   "execution_count": 668,
   "metadata": {},
   "outputs": [
    {
     "name": "stdout",
     "output_type": "stream",
     "text": [
      "445 249\n"
     ]
    }
   ],
   "source": [
    "largest_num = new_img[0][0]\n",
    "for row_idx, row in enumerate(new_img):\n",
    "    for col_idx, num in enumerate(row):\n",
    "        if num > largest_num:\n",
    "            largest_num = num\n",
    "            id_x=col_idx\n",
    "            id_y=row_idx\n",
    "\n",
    "large_val = largest_num\n",
    "id_f_x=id_x\n",
    "id_f_y=id_y\n",
    "print(id_f_x,id_f_y)"
   ]
  },
  {
   "cell_type": "code",
   "execution_count": 669,
   "metadata": {},
   "outputs": [
    {
     "data": {
      "text/plain": [
       "True"
      ]
     },
     "execution_count": 669,
     "metadata": {},
     "output_type": "execute_result"
    }
   ],
   "source": [
    "cv2.circle(img1,(id_f_x,id_f_y), 10, (0,0,255), 2)\n",
    "font=cv2.FONT_HERSHEY_SIMPLEX\n",
    "cv2.putText(img1, \"[445,249]\", (410,230), font, 0.5, (255, 0, 0), 1, cv2.LINE_AA)\n",
    "cv2.imwrite('porous_img.jpg',img1)"
   ]
  },
  {
   "cell_type": "markdown",
   "metadata": {},
   "source": [
    "## 2B"
   ]
  },
  {
   "cell_type": "code",
   "execution_count": 660,
   "metadata": {},
   "outputs": [
    {
     "name": "stdout",
     "output_type": "stream",
     "text": [
      "321\n",
      "712\n"
     ]
    }
   ],
   "source": [
    "from matplotlib import pyplot as plt\n",
    "\n",
    "img_segment = cv2.imread('original_imgs/segment.jpg')\n",
    "\n",
    "segment = cv2.cvtColor(img_segment, cv2.COLOR_BGR2GRAY)\n",
    "print(len(segment))\n",
    "print(len(segment[0]))"
   ]
  },
  {
   "cell_type": "code",
   "execution_count": 661,
   "metadata": {},
   "outputs": [],
   "source": [
    "arr = []\n",
    "\n",
    "for i in range(len(segment)):\n",
    "    for j in range (len(segment[0])):\n",
    "        if segment[i][j]!=0:\n",
    "            arr.append(segment[i][j]) \n",
    "            \n",
    "count_arr=np.zeros([256,1])\n",
    "\n",
    "for i in range(0,len(arr)):\n",
    "    count_arr[arr[i]]=count_arr[arr[i]]+1"
   ]
  },
  {
   "cell_type": "code",
   "execution_count": 662,
   "metadata": {},
   "outputs": [
    {
     "data": {
      "image/png": "[encoded data removed]",
      "text/plain": [
       "<Figure size 432x288 with 1 Axes>"
      ]
     },
     "metadata": {},
     "output_type": "display_data"
    }
   ],
   "source": [
    "plt.plot(count_arr,color='green')\n",
    "plt.show()"
   ]
  },
  {
   "cell_type": "code",
   "execution_count": 663,
   "metadata": {},
   "outputs": [],
   "source": [
    "new_img=np.zeros(segment.shape)\n",
    "\n",
    "for i in range(len(segment)):\n",
    "    for j in range (len(segment[0])):\n",
    "        if segment[i][j]<200:\n",
    "            new_img[i][j]=0\n",
    "        else:\n",
    "            new_img[i][j]=255"
   ]
  },
  {
   "cell_type": "code",
   "execution_count": 664,
   "metadata": {},
   "outputs": [
    {
     "data": {
      "text/plain": [
       "True"
      ]
     },
     "execution_count": 664,
     "metadata": {},
     "output_type": "execute_result"
    }
   ],
   "source": [
    "cv2.imwrite('threshold-image.jpg',new_img)"
   ]
  },
  {
   "cell_type": "code",
   "execution_count": 665,
   "metadata": {},
   "outputs": [
    {
     "name": "stdout",
     "output_type": "stream",
     "text": [
      "[ 22  24  24 ... 284 284 284] [344 341 352 ... 354 355 359]\n"
     ]
    }
   ],
   "source": [
    "i, j = np.where(new_img == 255)\n",
    "print(i,j)"
   ]
  },
  {
   "cell_type": "code",
   "execution_count": 666,
   "metadata": {},
   "outputs": [
    {
     "data": {
      "text/plain": [
       "True"
      ]
     },
     "execution_count": 666,
     "metadata": {},
     "output_type": "execute_result"
    }
   ],
   "source": [
    "cv2.rectangle(img_segment,(160,125),(210,168),(0,0,255),2)\n",
    "cv2.rectangle(img_segment,(250,210),(305,76),(0,0,255),2)\n",
    "cv2.rectangle(img_segment,(330,285),(363,20),(0,0,255),2)\n",
    "cv2.rectangle(img_segment,(388,255),(425,38),(0,0,255),2)\n",
    "cv2.imwrite('final_img.jpg',img_segment)"
   ]
  },
  {
   "cell_type": "markdown",
   "metadata": {},
   "source": [
    "## Question-3"
   ]
  },
  {
   "cell_type": "markdown",
   "metadata": {},
   "source": [
    "## 3A"
   ]
  },
  {
   "cell_type": "code",
   "execution_count": 609,
   "metadata": {},
   "outputs": [],
   "source": [
    "import numpy as np\n",
    "import cv2"
   ]
  },
  {
   "cell_type": "code",
   "execution_count": 610,
   "metadata": {},
   "outputs": [],
   "source": [
    "def hough_lines_acc(img, theta_resolution=1):\n",
    "    height, width = img.shape\n",
    "    img_diagonal = np.ceil(np.sqrt(height*height + width*width))\n",
    "    rhos = np.linspace(-img_diagonal, img_diagonal, img_diagonal*2)\n",
    "    thetas = np.deg2rad(np.arange(-90, 90, theta_resolution))\n",
    "\n",
    "    # create the empty Hough Accumulator with dimensions equal to the size of\n",
    "    # rhos and thetas\n",
    "    hough_acc = np.zeros((len(rhos), len(thetas)), dtype=np.uint8)\n",
    "    y_id, x_id = np.nonzero(img) # find all edge (nonzero) pixel indexes\n",
    "\n",
    "    for i in range(len(x_id)): # cycle through edge points\n",
    "        x = x_id[i]\n",
    "        y = y_id[i]\n",
    "\n",
    "        for i in range(len(thetas)): \n",
    "            rho = int((x * np.cos(thetas[i]) + y * np.sin(thetas[i])) + img_diagonal)\n",
    "            hough_acc[rho, i] += 1\n",
    "\n",
    "    return hough_acc, rhos, thetas"
   ]
  },
  {
   "cell_type": "code",
   "execution_count": 611,
   "metadata": {},
   "outputs": [],
   "source": [
    "def hough_peaks(hough_acc, num_peaks, nhood_size):\n",
    "    # loop through number of peaks to identify\n",
    "    indicies = []\n",
    "    hough_acc_1 = np.copy(hough_acc)\n",
    "    for i in range(num_peaks):\n",
    "        idmax = np.argmax(hough_acc_1) \n",
    "        hough_acc_idmax = np.unravel_index(idmax, hough_acc_1.shape) \n",
    "        indicies.append(hough_acc_idmax)\n",
    "\n",
    "\n",
    "        idmax_y, idmax_x = hough_acc_idmax \n",
    "        \n",
    "        if (idmax_x - (nhood_size/2)) < 0:\n",
    "            min_x = 0\n",
    "        else: \n",
    "            min_x = idmax_x - (nhood_size/2)\n",
    "            \n",
    "        if ((idmax_x + (nhood_size/2) + 1) > hough_acc.shape[1]): \n",
    "            max_x = hough_acc.shape[1]\n",
    "        else: \n",
    "            max_x = idmax_x + (nhood_size/2) + 1\n",
    "\n",
    "\n",
    "        if (idmax_y - (nhood_size/2)) < 0: \n",
    "            min_y = 0\n",
    "        else: \n",
    "            min_y = idmax_y - (nhood_size/2)\n",
    "        if ((idmax_y + (nhood_size/2) + 1) > hough_acc.shape[0]): \n",
    "            max_y = hough_acc.shape[0]\n",
    "        else: \n",
    "            max_y = idmax_y + (nhood_size/2) + 1\n",
    "\n",
    "        for x in range(int(min_x), int(max_x)):\n",
    "            for y in range(int(min_y), int(max_y)):\n",
    "                \n",
    "                hough_acc_1[y, x] = 0\n",
    "\n",
    "                \n",
    "                if (x == min_x or x == (max_x - 1)):\n",
    "                    hough_acc[y, x] = 255\n",
    "                if (y == min_y or y == (max_y - 1)):\n",
    "                    hough_acc[y, x] = 255\n",
    "\n",
    "    return indicies, hough_acc"
   ]
  },
  {
   "cell_type": "code",
   "execution_count": 612,
   "metadata": {},
   "outputs": [],
   "source": [
    "def hough_lines_draw(img, indicies, rhos, thetas):\n",
    "    for i in range(len(indicies)):\n",
    "        rho = rhos[indicies[i][0]]\n",
    "        theta = thetas[indicies[i][1]]\n",
    "        a = np.cos(theta)\n",
    "        b = np.sin(theta)\n",
    "        x0 = a*rho\n",
    "        y0 = b*rho\n",
    "        \n",
    "        x1 = int(x0 + 1000*(-b))\n",
    "        y1 = int(y0 + 1000*(a))\n",
    "        x2 = int(x0 - 1000*(-b))\n",
    "        y2 = int(y0 - 1000*(a))\n",
    "\n",
    "        cv2.line(img, (x1, y1), (x2, y2), (0, 255, 0), 2)"
   ]
  },
  {
   "cell_type": "code",
   "execution_count": 615,
   "metadata": {},
   "outputs": [],
   "source": [
    "# read in shapes image and convert to grayscale\n",
    "coin_img = cv2.imread('original_imgs/hough.jpg')\n",
    "\n",
    "img_b = coin_img.copy()\n",
    "\n",
    "img_b[:, :, 1] = 0\n",
    "img_b[:, :, 2] = 0\n",
    "\n",
    "blur_img_b = cv2.GaussianBlur(img_b, (5, 5), 1.5)\n",
    "\n",
    "coin_edges = cv2.Canny(blur_img_b, 100, 200)"
   ]
  },
  {
   "cell_type": "code",
   "execution_count": 617,
   "metadata": {},
   "outputs": [
    {
     "name": "stderr",
     "output_type": "stream",
     "text": [
      "C:\\Users\\disha\\Anaconda3\\lib\\site-packages\\ipykernel_launcher.py:4: DeprecationWarning: object of type <class 'numpy.float64'> cannot be safely interpreted as an integer.\n",
      "  after removing the cwd from sys.path.\n"
     ]
    },
    {
     "data": {
      "text/plain": [
       "True"
      ]
     },
     "execution_count": 617,
     "metadata": {},
     "output_type": "execute_result"
    }
   ],
   "source": [
    "# run hough_lines_accumulator on the shapes canny_edges image\n",
    "hough_acc, rhos, thetas = hough_lines_acc(coin_edges)\n",
    "indicies, hough_acc = hough_peaks(hough_acc, 6, 20) # find peaks\n",
    "hough_lines_draw(coin_img, indicies, rhos, thetas)\n",
    "\n",
    "\n",
    "cv2.imwrite('red_lines.jpg',coin_img)"
   ]
  },
  {
   "cell_type": "markdown",
   "metadata": {},
   "source": [
    "## 3B"
   ]
  },
  {
   "cell_type": "code",
   "execution_count": 618,
   "metadata": {},
   "outputs": [],
   "source": [
    "# read in shapes image and convert to grayscale\n",
    "coin_img_b = cv2.imread('original_imgs/hough.jpg')\n",
    "\n",
    "img_b = coin_img_b.copy()\n",
    "\n",
    "img_b[:, :, 0] = 0\n",
    "img_b[:, :, 1] = 0\n",
    "\n",
    "\n",
    "blur_img_b = cv2.GaussianBlur(img_b, (5, 5), 0)\n",
    "\n",
    "coin_edges_b = cv2.Canny(blur_img_b, 100, 200)"
   ]
  },
  {
   "cell_type": "code",
   "execution_count": 619,
   "metadata": {},
   "outputs": [
    {
     "name": "stderr",
     "output_type": "stream",
     "text": [
      "C:\\Users\\disha\\Anaconda3\\lib\\site-packages\\ipykernel_launcher.py:4: DeprecationWarning: object of type <class 'numpy.float64'> cannot be safely interpreted as an integer.\n",
      "  after removing the cwd from sys.path.\n"
     ]
    },
    {
     "data": {
      "text/plain": [
       "True"
      ]
     },
     "execution_count": 619,
     "metadata": {},
     "output_type": "execute_result"
    }
   ],
   "source": [
    "hough_acc, rhos, thetas = hough_lines_acc(coin_edges_b)\n",
    "indicies, hough_acc = hough_peaks(hough_acc, 8, 40) # find peaks\n",
    "hough_lines_draw(coin_img_b, indicies, rhos, thetas)\n",
    "\n",
    "cv2.imwrite('blue_lines.jpg',coin_img_b)"
   ]
  },
  {
   "cell_type": "code",
   "execution_count": null,
   "metadata": {},
   "outputs": [],
   "source": []
  }
 ],
 "metadata": {
  "kernelspec": {
   "display_name": "Python 3",
   "language": "python",
   "name": "python3"
  },
  "language_info": {
   "codemirror_mode": {
    "name": "ipython",
    "version": 3
   },
   "file_extension": ".py",
   "mimetype": "text/x-python",
   "name": "python",
   "nbconvert_exporter": "python",
   "pygments_lexer": "ipython3",
   "version": "3.6.5"
  }
 },
 "nbformat": 4,
 "nbformat_minor": 2
}
